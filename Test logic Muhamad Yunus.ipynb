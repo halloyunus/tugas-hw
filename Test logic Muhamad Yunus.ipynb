{
 "cells": [
  {
   "cell_type": "code",
   "execution_count": 17,
   "metadata": {},
   "outputs": [
    {
     "name": "stdout",
     "output_type": "stream",
     "text": [
      "[1, 2, 3, 'Friend', 5, 6, 'Foe', 'Friend', 9, 10, 11, 'Friend', 13, 'Foe', 15, 'Friend', 17, 18, 19, 'Friend', 'Foe', 22, 23, 'Friend', 25, 26, 27, 'FriendFoe', 29, 30, 31, 'Friend', 33, 34, 'Foe', 'Friend', 37, 38, 39, 'Friend', 41, 'Foe', 43, 'Friend', 45, 46, 47, 'Friend', 'Foe', 50, 51, 'Friend', 53, 54, 55, 'FriendFoe', 57, 58, 59, 'Friend', 61, 62, 'Foe', 'Friend', 65, 66, 67, 'Friend', 69, 'Foe', 71, 'Friend', 73, 74, 75, 'Friend', 'Foe', 78, 79, 'Friend', 81, 82, 83, 'FriendFoe', 85, 86, 87, 'Friend', 89, 90, 'Foe', 'Friend', 93, 94, 95, 'Friend', 97, 'Foe', 99]\n"
     ]
    }
   ],
   "source": [
    "#1\n",
    "# buat varibel untuk menyipan bilangan disimpan kedalam list\n",
    "bilangan = []\n",
    "# mencetak angka dari 1 - 100\n",
    "for bil in range(1,100):\n",
    "    # membuat kondisi jika bilang merupakan kelipatan 4 & 7 maka cetak 'FriendFoe'\n",
    "    if bil % 4 == 0 and bil % 7 == 0 :\n",
    "        bilangan.append('FriendFoe')\n",
    "    # membuat kondisi jika bilang merupakan kelipatan 4 maka cetak 'Friend'\n",
    "    elif bil % 4 ==0:\n",
    "        bilangan.append('Friend')\n",
    "    # membuat kondisi jika bilang merupakan kelipatan 7 maka cetak 'Foe'\n",
    "    elif bil % 7 ==0:\n",
    "        bilangan.append('Foe')\n",
    "    # membuat kondisi akhir jika tidak ada bilangan pada kondisi yang telah dibuat sebelumnya maka cetak/tambahkan bilangan'\n",
    "    else:\n",
    "        bilangan.append(bil)\n",
    "print(bilangan)"
   ]
  },
  {
   "cell_type": "code",
   "execution_count": null,
   "metadata": {},
   "outputs": [],
   "source": [
    "#2"
   ]
  },
  {
   "cell_type": "code",
   "execution_count": 349,
   "metadata": {},
   "outputs": [
    {
     "name": "stdout",
     "output_type": "stream",
     "text": [
      "tulisannya sangat **** membuat kepala ini **** dasar ****\n"
     ]
    }
   ],
   "source": [
    "#3\n",
    "# membuat inputan kalimat\n",
    "kalimat = (input('masukan kalimat : '))\n",
    "# mendeskripskan kalimat yang akan di sensord\n",
    "sensord = ['pusing', 'jelek', 'bodoh', 'kardun', 'cebong', 'kampret', 'anjing', 'babi', 'goblok']\n",
    "\n",
    "# input dari kalimat yang sudah dimasukan bagi menjadi perkata dan dirubah kehuruf kecil ini menantisipasi kata yang akan di sensord tidak terfilter\n",
    "kalimat = kalimat.lower().split(' ')\n",
    "\n",
    "# memfilter kalimat yang di inputkan dengan menyipan terlebih dahulu di varibel filter_kalimat\n",
    "filter_kalimat =[]\n",
    "\n",
    "# untuk setiap kata yang berada di dalam kalimat akan di cek\n",
    "for kata in kalimat:\n",
    "    # membuat kondisi untuk kata yang ada di dalam list sensord, jika ada maka akan di ganti menjadi **\n",
    "    if kata in sensord:\n",
    "        filter_kalimat.append('****')\n",
    "    #kondisi akhir jika tidak ada kalimat yang di sensord\n",
    "    else:\n",
    "        filter_kalimat.append(kata)\n",
    "# setelah melalui filter kata, akan di gabungkan kembali menjadi kalimat utuh\n",
    "print(\" \".join(filter_kalimat))"
   ]
  },
  {
   "cell_type": "code",
   "execution_count": 12,
   "metadata": {},
   "outputs": [
    {
     "name": "stdout",
     "output_type": "stream",
     "text": [
      "8\n",
      "77\n",
      "666\n",
      "5555\n",
      "44444\n",
      "333333\n",
      "2222222\n",
      "11111111\n"
     ]
    }
   ],
   "source": [
    "#4\n",
    "# membuat inputan utnuk angka\n",
    "x = int(input(\"masukan angka: \"))\n",
    "# membuat perulang dari inputan angka\n",
    "for i in range(x):\n",
    "    # inputan di tambah 1 dari \n",
    "    for j in range(i+1):\n",
    "        # untuk menampilkan inputan dari belakang nilai input di kurangi niali loop\n",
    "        print(x-i, end=\"\")\n",
    "    print('')"
   ]
  },
  {
   "cell_type": "code",
   "execution_count": 66,
   "metadata": {},
   "outputs": [
    {
     "name": "stdout",
     "output_type": "stream",
     "text": [
      "sepuluh juta empat ratus lima puluh  ribu sebelas\n"
     ]
    }
   ],
   "source": [
    "# 5\n",
    "# membuat untuk input bilangan\n",
    "bilangan = input('masukan bilangan')\n",
    "\n",
    "# membuat fungsi untuk terbilang\n",
    "def terbilang(bil):\n",
    "    #definisikan huruf\n",
    "    huruf = [\"\",\"datu\",\"dua\",\"tiga\",\"empat\",\"lima\",\"enam\",\n",
    "             \"tujuh\",\"telapan\",\"sembilan\",\"sepuluh\",\"sebelas\"]\n",
    "\n",
    "    # sebutan/terbilang disimpan varibel sebut yang nanti nilainya di return ke varibel sebut\n",
    "    sebut = \"\"\n",
    "    # definisikan bilangan\n",
    "    x = int(bil)\n",
    "\n",
    "    # buat kondisi pertama untuk bilangan kurang dari 12, akan mencetak nilai yang sudah di definisikan di list huruf\n",
    "    if x < 12:\n",
    "        sebut = huruf[x]\n",
    "\n",
    "    # kondisi kedua jika bilangan kurang dari 20, x - 10, contoh 8-10 = 2,  maka di akhir akan di tambahkan belas = dua belas\n",
    "    elif x < 20 :\n",
    "        sebut = terbilang(x-10) + ' belas'\n",
    "\n",
    "    # kondisi ketiga jika bilangan kurang dari 100, maka nilai bilangan(x) dibagi 10, di tambahkan puluh, kemudian di tambahkan nilai hasil bagi(modulus x%10)\n",
    "    elif x < 100 :\n",
    "        sebut = terbilang(x/10) + ' puluh ' + terbilang (x%10)\n",
    "\n",
    "    # kondisi keempat jika bilangan kurang dari 200, maka cetak 'seratus' di tambah nilai bilangan di kurangi 100\n",
    "    elif x < 200 :\n",
    "        sebut = ' seratus ' + terbilang(x-100) \n",
    "    \n",
    "    # kondisi kelima jika bilangan kurang dari 1000, maka nilai bilangan(x) dibagi 100, di tambahkan ratus, kemudian di tambahkan nilai hasil bagi(modulus x%100)\n",
    "    elif x < 1000 :\n",
    "        sebut = terbilang(x/100) + ' ratus ' + terbilang (x%100)\n",
    "    \n",
    "    # kondisi keenam jika bilangan kurang dari 200, maka cetak 'seribu' di tambah nilai bilangan di kurangi 1000\n",
    "    elif x < 2000 :\n",
    "        sebut = ' seribu ' + terbilang(x-1000)\n",
    "    \n",
    "    # kondisi ketujuh jika bilangan kurang dari 1000000, maka nilai bilangan(x) dibagi 1000, di tambahkan ratus, kemudian di tambahkan nilai hasil bagi(modulus x%1000)\n",
    "    elif x < 1000000 :\n",
    "        sebut = terbilang(x/1000) + ' ribu ' + terbilang (x%1000)\n",
    "\n",
    "    # kondisi kedelapan jika bilangan kurang dari 1000000000, maka cetak 'juta' di tambah nilai bilangan di kurangi 1000000\n",
    "    elif x < 1000000000:\n",
    "        sebut = terbilang (x/1000000) + ' juta ' + terbilang (x%1000000)\n",
    "    \n",
    "    # kondisi terakhir dimana nilai dibatasi 999.999.999\n",
    "    else:\n",
    "        sebut = 'hanya sampai 1M'\n",
    "    \n",
    "    # lalu kemudian niali di return/ dikembalikan nilainya ke varibel sebut\n",
    "    return sebut\n",
    "\n",
    "# lalu kemudian memanggil function terbilang, dengan memproses bilangan yang diinputkan, dan akan disimpan hasilnya di avriebl ter\n",
    "ter = terbilang(bilangan)\n",
    "print (ter)"
   ]
  },
  {
   "cell_type": "code",
   "execution_count": 361,
   "metadata": {},
   "outputs": [
    {
     "name": "stdout",
     "output_type": "stream",
     "text": [
      "sepuluh juta empat ratus lima puluh ribu sebelas\n"
     ]
    }
   ],
   "source": [
    "#5\n",
    "# versi libaray\n",
    "from terbilang import Terbilang\n",
    "t = Terbilang()\n",
    "t.parse('10450011')\n",
    "print(t.getresult())"
   ]
  }
 ],
 "metadata": {
  "kernelspec": {
   "display_name": "Python 3.9.6 64-bit",
   "language": "python",
   "name": "python3"
  },
  "language_info": {
   "codemirror_mode": {
    "name": "ipython",
    "version": 3
   },
   "file_extension": ".py",
   "mimetype": "text/x-python",
   "name": "python",
   "nbconvert_exporter": "python",
   "pygments_lexer": "ipython3",
   "version": "3.9.6"
  },
  "orig_nbformat": 4,
  "vscode": {
   "interpreter": {
    "hash": "7b69db368a710ece06f2ea6dde26efc601e00f4bdc01217141358177a94f3de9"
   }
  }
 },
 "nbformat": 4,
 "nbformat_minor": 2
}
